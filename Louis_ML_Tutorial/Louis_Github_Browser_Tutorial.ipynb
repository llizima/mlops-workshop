{
 "cells": [
  {
   "cell_type": "markdown",
   "metadata": {},
   "source": [
    "## Github tutorial (Browser-Only) ##\n",
    "\n",
    "1. Fork the Repository\n",
    "    1. Log in to your GitHub account.\n",
    "    2. Navigate to therepository\n",
    "    3. Click the Fork button in the top right corner of the page to create a copy of the repository in your GitHub profile.\n"
   ]
  },
  {
   "cell_type": "markdown",
   "metadata": {},
   "source": [
    "\n",
    "2. Authorize Applicaton authorization limited to your forked repository (repo).\n",
    "    1. AWS Application Integration\n",
    "        1. Log in to the AWS portal.\n",
    "        2. Select the role ( mlops-workshop-student ) that has been assigned to you.\n",
    "        3. In the AWS portal, navigate to CodePipeline > Settings > Connections.\n",
    "        4. Locate your connection (e.g., <your_username>-connection) in the list of connections.\n",
    "        5. Click Update Pending Connection\n",
    "        6. A new browser window will pop up asking you to authorize GitHub. If you are not signed in, log into GitHub first.\n",
    "        7. Approve GitHub access, ensuring you limit access to just your forked repo (do not allow access to all repositories).\n"
   ]
  },
  {
   "cell_type": "markdown",
   "metadata": {},
   "source": [
    "\n",
    "3. Verify Application connection to Github:\n",
    "    1. Go to Your Account Settings:\n",
    "        1. Click on your profile icon in the top-right corner of GitHub.\n",
    "        2. Select Settings from the dropdown menu (this is your account-level settings, not the repository-level settings).\n",
    "    2. Navigate to Applications:\n",
    "        1. On the left-hand side, look for a section called Applications under the Access or Developer Settings category.\n",
    "        2. Here, you should see: Authorized OAuth Apps, Authorized GitHub Apps, Installed GitHub Apps\n"
   ]
  },
  {
   "cell_type": "markdown",
   "metadata": {},
   "source": [
    "\n",
    "4. Set Up Your CodePipeline\n",
    "    1. Once the connection is successfully established, your CodePipeline will be set up.\n",
    "    2. When you merge changes into the main branch of your forked repository, the pipeline will automatically trigger builds and deploy services.\n",
    "\n",
    "    hh\n",
    "\n"
   ]
  },
  {
   "cell_type": "markdown",
   "metadata": {},
   "source": [
    "\n",
    "5. Testing Your Pipeline\n",
    "    1. Open your forked repository in GitHub.\n",
    "    2. Create a new branch directly in the GitHub browser:\n",
    "        1. Click the Branch: main dropdown and type a new branch name (e.g., testing-pipeline), then press Enter.\n",
    "    3. Make edits in the browser:\n",
    "        1. For example, edit the README.md file or modify a script like services/textemote/build.sh.\n",
    "        2. Click Commit changes and select the option to commit directly to your new branch.\n",
    "    4. Create a pull request:\n",
    "        1. Go to the Pull Requests tab in your repository.\n",
    "        2. Click New Pull Request, select your branch (testing-pipeline) as the source, and main as the target.\n",
    "        3. Review the changes and click Create Pull Request.\n",
    "    5. Merge the pull request:\n",
    "        1. After reviewing, merge the branch into main. This will trigger the pipeline in AWS CodePipeline."
   ]
  },
  {
   "cell_type": "markdown",
   "metadata": {},
   "source": [
    "\n",
    "6. Testing Your Deployed Service\n",
    "    1. Once the pipeline finishes successfully, it will provide a URL for your deployed service in the pipeline logs."
   ]
  }
 ],
 "metadata": {
  "language_info": {
   "name": "python"
  }
 },
 "nbformat": 4,
 "nbformat_minor": 2
}
