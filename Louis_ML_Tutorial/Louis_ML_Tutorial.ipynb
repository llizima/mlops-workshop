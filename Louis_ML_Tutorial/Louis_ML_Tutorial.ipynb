{
 "cells": [
  {
   "cell_type": "markdown",
   "metadata": {},
   "source": [
    "Process for deploying a machine learning model to the cloud. Kubernettes is a cluster organization tool that organizes clusters on several different computers. How to submit your work as a software engineer. This workshop is on deployment patterns and we should end up with our own repository. we signed into aws and he granted us permission a level of permission\n",
    "\n",
    "Basic:\n",
    "\n",
    "Python Virtual Environments\n",
    "\n",
    "API Basics - Automated programing interface. Anytime you have custom code from a company and it can be a database or a machine learning deployment like Open AI. It is usefull code posted on the internet that people can access and generally its behind something that you pay to access. \n",
    "\n",
    "\n",
    "Containerization (Docker)\n",
    "\n",
    "AWS  (we will cover some services that can be used to set up a basic API)\n",
    "\n",
    "Version control (GitHub) - branches, commmits, pull/push/merge, fork\n",
    "\n",
    "CICD basics"
   ]
  },
  {
   "cell_type": "markdown",
   "metadata": {},
   "source": [
    "Intermediate:\n",
    "\n",
    "Production/Branch Deployments\n",
    "\n",
    "Secret management best practices"
   ]
  },
  {
   "cell_type": "markdown",
   "metadata": {},
   "source": [
    "Advanced:\n",
    "\n",
    "Advancd IAM concepts\n",
    "\n",
    "Customizing CICD patterns\n",
    "\n",
    "Load balancing/ basic networking concepts\n"
   ]
  }
 ],
 "metadata": {
  "language_info": {
   "name": "python"
  }
 },
 "nbformat": 4,
 "nbformat_minor": 2
}
